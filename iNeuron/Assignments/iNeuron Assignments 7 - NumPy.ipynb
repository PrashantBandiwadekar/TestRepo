{
 "cells": [
  {
   "cell_type": "markdown",
   "id": "fe62ce62",
   "metadata": {},
   "source": [
    "### Write a function so that the columns of the output matrix are powers of the input vector."
   ]
  },
  {
   "cell_type": "code",
   "execution_count": 35,
   "id": "8211e1c5",
   "metadata": {},
   "outputs": [
    {
     "data": {
      "text/plain": [
       "array([[ 1,  1,  1,  1],\n",
       "       [ 1,  2,  4,  8],\n",
       "       [ 1,  3,  9, 27],\n",
       "       [ 1,  4, 16, 64]])"
      ]
     },
     "execution_count": 35,
     "metadata": {},
     "output_type": "execute_result"
    }
   ],
   "source": [
    "import numpy as np\n",
    "def vector_to_matrix(vector, increasing = False, N=0):\n",
    "    if N==0:\n",
    "        vector_lenght = len(vector)\n",
    "    else:\n",
    "        vector_lenght = N\n",
    "    matrix_list = []\n",
    "    for i in vector:\n",
    "        row_list = [i**j for j in range(vector_lenght)]\n",
    "        if not increasing:\n",
    "            print(increasing)\n",
    "            row_list.reverse()\n",
    "        matrix_list.append(row_list)\n",
    "    return np.array(matrix_list)\n",
    "\n",
    "vector_to_matrix([1,2,3,4], increasing = True)"
   ]
  },
  {
   "cell_type": "markdown",
   "id": "df94b895",
   "metadata": {},
   "source": [
    "### Write a function to find moving average in an array over a window: Test it over [3, 5, 7, 2, 8, 10, 11, 65, 72, 81, 99, 100, 150] and window of 3."
   ]
  },
  {
   "cell_type": "code",
   "execution_count": 36,
   "id": "fbd1c420",
   "metadata": {},
   "outputs": [
    {
     "data": {
      "text/plain": [
       "array([  5.        ,   4.66666667,   5.66666667,   6.66666667,\n",
       "         9.66666667,  28.66666667,  49.33333333,  72.66666667,\n",
       "        84.        ,  93.33333333, 116.33333333])"
      ]
     },
     "execution_count": 36,
     "metadata": {},
     "output_type": "execute_result"
    }
   ],
   "source": [
    "import numpy as np\n",
    "def moving_average(list1, window):\n",
    "    moving_average_list = []\n",
    "    list_len = len(list1)\n",
    "    for i in range(list_len - window + 1):\n",
    "        sum_window = 0\n",
    "        for j in range(window):\n",
    "            sum_window = sum_window + list1[i+j]\n",
    "        moving_average_list.append(sum_window/window)\n",
    "    return np.array(moving_average_list)\n",
    "\n",
    "moving_average([3, 5, 7, 2, 8, 10, 11, 65, 72, 81, 99, 100, 150],3)"
   ]
  }
 ],
 "metadata": {
  "kernelspec": {
   "display_name": "Python 3",
   "language": "python",
   "name": "python3"
  },
  "language_info": {
   "codemirror_mode": {
    "name": "ipython",
    "version": 3
   },
   "file_extension": ".py",
   "mimetype": "text/x-python",
   "name": "python",
   "nbconvert_exporter": "python",
   "pygments_lexer": "ipython3",
   "version": "3.8.8"
  }
 },
 "nbformat": 4,
 "nbformat_minor": 5
}
