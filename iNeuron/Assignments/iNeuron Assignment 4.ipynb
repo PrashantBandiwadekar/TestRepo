{
 "cells": [
  {
   "cell_type": "markdown",
   "id": "d0fa0f29",
   "metadata": {},
   "source": [
    "## 1.1 Write a Python Program(with class concepts) to find the area of the triangle using the below formula.area = (s*(s-a)*(s-b)*(s-c)) ** 0.5 Function to take the length of the sides of triangle from user should be defined in the parent class and function to calculate the area should be defined in subclass."
   ]
  },
  {
   "cell_type": "code",
   "execution_count": 34,
   "id": "23df34d7",
   "metadata": {},
   "outputs": [
    {
     "name": "stdout",
     "output_type": "stream",
     "text": [
      "Please enter the lenght of side : qw\n",
      "Invalid input please try again :  invalid literal for int() with base 10: 'qw'\n",
      "Please enter the lenght of side : ew\n",
      "Invalid input please try again :  invalid literal for int() with base 10: 'ew'\n",
      "Please enter the lenght of side : qwe\n",
      "Invalid input please try again :  invalid literal for int() with base 10: 'qwe'\n",
      "Please enter the lenght of side : 1\n",
      "Please enter the lenght of side : 2\n",
      "Please enter the lenght of side : qwe\n",
      "Invalid input please try again :  invalid literal for int() with base 10: 'qwe'\n",
      "Please enter the lenght of side : qwe\n",
      "Invalid input please try again :  invalid literal for int() with base 10: 'qwe'\n",
      "Please enter the lenght of side : 1\n",
      "Area of triangle is :  0.0\n"
     ]
    }
   ],
   "source": [
    "class Side:\n",
    "    def __init__(self):\n",
    "        try:\n",
    "            self.length = int(input(\"Please enter the lenght of side : \"))\n",
    "        except Exception as e:\n",
    "            print(\"Invalid input please try again : \",e)\n",
    "            self.__init__()\n",
    "        \n",
    "class Triangle(Side):\n",
    "    def __init__(self):\n",
    "        try:\n",
    "            super(Side).__init__()\n",
    "            self.a = Side()\n",
    "            self.b = Side()\n",
    "            self.c = Side()\n",
    "            self.s = (self.a.length + self.b.length + self.c.length)/2\n",
    "        except Exception as e:\n",
    "            print(e)\n",
    "    def find_area(self):\n",
    "        try:\n",
    "            area = (self.s*(self.s-self.a.length)*(self.s-self.b.length)*(self.s-self.c.length)) ** 0.5\n",
    "        except Exception as e:\n",
    "            print(e)\n",
    "        return area\n",
    "t1 = Triangle()\n",
    "print(\"Area of triangle is : \",t1.find_area())\n",
    "    "
   ]
  },
  {
   "cell_type": "markdown",
   "id": "4b902232",
   "metadata": {},
   "source": [
    "## 1.2 Write a function filter_long_words() that takes a list of words and an integer n and returns the list of words that are longer than n."
   ]
  },
  {
   "cell_type": "code",
   "execution_count": 15,
   "id": "d1846b6b",
   "metadata": {},
   "outputs": [
    {
     "data": {
      "text/plain": [
       "['qweqwe', 'retert', 'werwer']"
      ]
     },
     "execution_count": 15,
     "metadata": {},
     "output_type": "execute_result"
    }
   ],
   "source": [
    "def filter_long_words(word_list, length_limit):\n",
    "    filtered_word_list = []\n",
    "    try:\n",
    "        for word in word_list:\n",
    "            if len(word) > length_limit :\n",
    "                filtered_word_list.append(word)\n",
    "    except Exception as e:\n",
    "        print(e)\n",
    "    return filtered_word_list\n",
    "\n",
    "list1 = ['qweqwe','werwe','tree','fsfs','retert','sfsdf','werwer']\n",
    "filter_long_words(list1, 5)"
   ]
  },
  {
   "cell_type": "markdown",
   "id": "f31615d6",
   "metadata": {},
   "source": [
    "## 2.1 Write a Python program using function concept that maps list of words into a list of integers representing the lengths of the corresponding words. Hint: If a list [ ab,cde,erty] is passed on to the python function output should come as [2,3,4] Here 2,3 and 4 are the lengths of the words in the list."
   ]
  },
  {
   "cell_type": "code",
   "execution_count": 17,
   "id": "b591b293",
   "metadata": {},
   "outputs": [
    {
     "data": {
      "text/plain": [
       "[6, 5, 4, 4, 6, 5, 6]"
      ]
     },
     "execution_count": 17,
     "metadata": {},
     "output_type": "execute_result"
    }
   ],
   "source": [
    "def find_word_length(word_list):\n",
    "    try:\n",
    "        word_length_list = []\n",
    "        for word in word_list:\n",
    "            word_length_list.append(len(word))\n",
    "    except Exception as e:\n",
    "        print(e)\n",
    "    return word_length_list\n",
    "\n",
    "list1 = ['qweqwe','werwe','tree','fsfs','retert','sfsdf','werwer']\n",
    "\n",
    "find_word_length(list1)"
   ]
  },
  {
   "cell_type": "markdown",
   "id": "5b665984",
   "metadata": {},
   "source": [
    "## 2.2 Write a Python function which takes a character (i.e. a string of length 1) and returns True if it is a vowel, False otherwise."
   ]
  },
  {
   "cell_type": "code",
   "execution_count": 28,
   "id": "78246c79",
   "metadata": {},
   "outputs": [
    {
     "data": {
      "text/plain": [
       "False"
      ]
     },
     "execution_count": 28,
     "metadata": {},
     "output_type": "execute_result"
    }
   ],
   "source": [
    "def check_vowel(c):\n",
    "    try:\n",
    "        vowel_flag = c in ['a','e','i','o','u','A','E','I','O','U']\n",
    "        return vowel_flag\n",
    "    except Exception as e:\n",
    "        print(e)\n",
    "check_vowel('qweqwe')"
   ]
  }
 ],
 "metadata": {
  "kernelspec": {
   "display_name": "Python 3",
   "language": "python",
   "name": "python3"
  },
  "language_info": {
   "codemirror_mode": {
    "name": "ipython",
    "version": 3
   },
   "file_extension": ".py",
   "mimetype": "text/x-python",
   "name": "python",
   "nbconvert_exporter": "python",
   "pygments_lexer": "ipython3",
   "version": "3.8.8"
  }
 },
 "nbformat": 4,
 "nbformat_minor": 5
}
