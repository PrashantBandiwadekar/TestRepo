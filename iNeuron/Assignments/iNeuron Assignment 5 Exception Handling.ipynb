{
 "cells": [
  {
   "cell_type": "markdown",
   "id": "64bf8e23",
   "metadata": {},
   "source": [
    "## 1. Write a function to compute 5/0 and use try/except to catch the exceptions."
   ]
  },
  {
   "cell_type": "code",
   "execution_count": 10,
   "id": "eeac289b",
   "metadata": {},
   "outputs": [
    {
     "name": "stdout",
     "output_type": "stream",
     "text": [
      "The denominator is 0 \n",
      " division by zero\n"
     ]
    }
   ],
   "source": [
    "def division(n,d):\n",
    "    try:\n",
    "        return n/d\n",
    "    except ZeroDivisionError as z:\n",
    "        print(\"The denominator is 0 \\n\",z)\n",
    "    except Exception as e:\n",
    "        print(\"Error has occured. \\n\",e)\n",
    "        \n",
    "division(4,0)"
   ]
  },
  {
   "cell_type": "markdown",
   "id": "d524bc61",
   "metadata": {},
   "source": [
    "## 2. Implement a Python program to generate all sentences where subject is in [\"Americans\", \"Indians\"] and verb is in [\"Play\", \"watch\"] and the object is in [\"Baseball\",\"cricket\"]."
   ]
  },
  {
   "cell_type": "code",
   "execution_count": 12,
   "id": "5d9b226d",
   "metadata": {},
   "outputs": [
    {
     "data": {
      "text/plain": [
       "['Americans Play Baseball.',\n",
       " 'Americans Play cricket.',\n",
       " 'Americans watch Baseball.',\n",
       " 'Americans watch cricket.',\n",
       " 'Indians Play Baseball.',\n",
       " 'Indians Play cricket.',\n",
       " 'Indians watch Baseball.',\n",
       " 'Indians watch cricket.']"
      ]
     },
     "execution_count": 12,
     "metadata": {},
     "output_type": "execute_result"
    }
   ],
   "source": [
    "class Sentence:\n",
    "    def __init__(self, subjects, verbs, objects):\n",
    "        self.subjects = subjects\n",
    "        self.verbs = verbs\n",
    "        self.objects = objects\n",
    "        \n",
    "    def form_sentences(self):\n",
    "        sentence_list = []\n",
    "        try:\n",
    "            for subject in self.subjects:\n",
    "                for verb in self.verbs:\n",
    "                    for obj in self.objects:\n",
    "                        sentence_list.append(subject + \" \" + verb + \" \" + obj + \".\")\n",
    "        except Exception as e:\n",
    "            print(\"There is an error \",e)\n",
    "        return sentence_list\n",
    "    \n",
    "s1 = [\"Americans\", \"Indians\"] \n",
    "v1 = [\"Play\", \"watch\"]\n",
    "o1 = [\"Baseball\",\"cricket\"]\n",
    "\n",
    "sent1 = Sentence(s1,v1,o1)\n",
    "sent1.form_sentences()"
   ]
  },
  {
   "cell_type": "code",
   "execution_count": null,
   "id": "c2fb1d66",
   "metadata": {},
   "outputs": [],
   "source": []
  }
 ],
 "metadata": {
  "kernelspec": {
   "display_name": "Python 3",
   "language": "python",
   "name": "python3"
  },
  "language_info": {
   "codemirror_mode": {
    "name": "ipython",
    "version": 3
   },
   "file_extension": ".py",
   "mimetype": "text/x-python",
   "name": "python",
   "nbconvert_exporter": "python",
   "pygments_lexer": "ipython3",
   "version": "3.8.8"
  }
 },
 "nbformat": 4,
 "nbformat_minor": 5
}
